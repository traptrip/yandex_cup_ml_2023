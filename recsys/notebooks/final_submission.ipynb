{
 "cells": [
  {
   "cell_type": "code",
   "execution_count": 3,
   "metadata": {},
   "outputs": [],
   "source": [
    "from pathlib import Path\n",
    "\n",
    "import numpy as np\n",
    "import pandas as pd\n",
    "import matplotlib.pyplot as plt\n",
    "from tqdm.auto import tqdm\n",
    "\n",
    "figsize = (18, 5)\n",
    "plt.rcParams[\"figure.figsize\"] = figsize"
   ]
  },
  {
   "cell_type": "code",
   "execution_count": 4,
   "metadata": {},
   "outputs": [],
   "source": [
    "def process_prediction(pred):\n",
    "    return np.array(list(map(float, pred.split(\",\"))))\n",
    "\n",
    "\n",
    "def unprocess_prediction(pred):\n",
    "    pred = [p for p in pred]\n",
    "    return \",\".join(map(str, pred))\n",
    "\n",
    "\n",
    "def one_hot_to_tags_list(pred):\n",
    "    if not isinstance(pred, (list, np.ndarray)):\n",
    "        pred = list(map(float, pred.split(\",\")))\n",
    "    tags = []\n",
    "    for i, p in enumerate(pred):\n",
    "        if p > 0.5:\n",
    "            tags.append(i)\n",
    "    if not tags:\n",
    "        tags.append(np.argmax(pred))\n",
    "    return tags"
   ]
  },
  {
   "cell_type": "code",
   "execution_count": 5,
   "metadata": {},
   "outputs": [
    {
     "data": {
      "application/vnd.jupyter.widget-view+json": {
       "model_id": "5a000bec3b544cbabd4b8e37c1bf0da2",
       "version_major": 2,
       "version_minor": 0
      },
      "text/plain": [
       "  0%|          | 0/25580 [00:00<?, ?it/s]"
      ]
     },
     "metadata": {},
     "output_type": "display_data"
    }
   ],
   "source": [
    "# public: 0.3066045963604239\n",
    "\n",
    "data_dir = Path(\"../_EXPERIMENTS\")\n",
    "prediction_dfs = [\n",
    "    # # # TOP # # #\n",
    "    ( 1.1, pd.read_csv(data_dir / \"12folds__transformer_crop120_cutmix_1/prediction_infer_fixed.csv\")),  # 0.2996 crop=120 fixed_crop\n",
    "#     ( 1.0, pd.read_csv(data_dir / \"12folds__transformer_crop120_cutmix_1/prediction_fold12.csv\")),  # 0.2995 crop=120\n",
    "    ( 1.0, pd.read_csv(data_dir / \"12folds__transformer_4heads_maxcrop240_cutmix_1/prediction.csv\")),   # 0.298862293773901 crop=240\n",
    "    ( 1.0, pd.read_csv(data_dir / \"12folds__transformer_fixed_crop_2/prediction_fold12.csv\")),   # 0.29520697045826705 crop=50\n",
    "    # # # # # # # #\n",
    "    \n",
    "    (0.3, pd.read_csv(data_dir / \"20folds__transformer_4heads_1/prediction_4.csv\")),  # 0.2993926553692722 crop 120 4heads 4layers    \n",
    "    (0.2, pd.read_csv(data_dir / \"10folds__transformer__attn_pooling__flip_cut_aug__lion__resample_1/prediction.csv\")),   # 0.29489815827421006\n",
    "    (0.2, pd.read_csv(data_dir / \"12folds__transformer_rms__attn_pooling__flip_cut_aug__lion__resample_1/prediction_fold12.csv\")),  # 0.29461715481539386\n",
    "    (0.1, pd.read_csv(data_dir / \"10folds__transformer__attn_pooling__flip_cut_aug__lion__weighted_bce_2/prediction.csv\")),   # 0.28324435351541744\n",
    "\n",
    "    (0.1, pd.read_csv(data_dir / \"12folds__mlp_2/fold0_prediction_4max.csv\")),   # 0.24\n",
    "]\n",
    "weights = [p[0] for p in prediction_dfs]\n",
    "ps = [p[1] for p in prediction_dfs]\n",
    "merged_p = ps[0].copy()\n",
    "\n",
    "for p in ps:\n",
    "    p.prediction = p.prediction.apply(process_prediction)\n",
    "\n",
    "for track in tqdm(ps[0].track.values):\n",
    "    tps = [\n",
    "        p[p.track == track].prediction.iloc[0]\n",
    "        for p in ps\n",
    "    ]\n",
    "    preds = np.average(tps, axis=0, weights=weights).tolist()\n",
    "\n",
    "    merged_p.loc[merged_p.track == track, \"prediction\"] = (\n",
    "        unprocess_prediction(preds)\n",
    "    )"
   ]
  },
  {
   "cell_type": "code",
   "execution_count": 6,
   "metadata": {},
   "outputs": [],
   "source": [
    "merged_p.to_csv(\"ensemble_prediction.csv\", index=False)"
   ]
  },
  {
   "cell_type": "code",
   "execution_count": 7,
   "metadata": {},
   "outputs": [
    {
     "data": {
      "text/plain": [
       "231"
      ]
     },
     "metadata": {},
     "output_type": "display_data"
    },
    {
     "data": {
      "image/png": "[encoded data removed]",
      "text/plain": [
       "<Figure size 1800x500 with 1 Axes>"
      ]
     },
     "metadata": {},
     "output_type": "display_data"
    }
   ],
   "source": [
    "# for p in ps + [merged_p]:\n",
    "for p in [merged_p]:\n",
    "    tags = p.prediction.apply(one_hot_to_tags_list)\n",
    "    pred_tags_cnt = tags.explode().value_counts()\n",
    "    display(len(pred_tags_cnt))\n",
    "    plt.bar(range(len(pred_tags_cnt)), pred_tags_cnt.sort_index().values, width=0.6)\n",
    "    plt.show()"
   ]
  },
  {
   "cell_type": "code",
   "execution_count": null,
   "metadata": {},
   "outputs": [],
   "source": []
  }
 ],
 "metadata": {
  "kernelspec": {
   "display_name": "ya",
   "language": "python",
   "name": "python3"
  },
  "language_info": {
   "codemirror_mode": {
    "name": "ipython",
    "version": 3
   },
   "file_extension": ".py",
   "mimetype": "text/x-python",
   "name": "python",
   "nbconvert_exporter": "python",
   "pygments_lexer": "ipython3",
   "version": "3.10.12"
  }
 },
 "nbformat": 4,
 "nbformat_minor": 2
}
