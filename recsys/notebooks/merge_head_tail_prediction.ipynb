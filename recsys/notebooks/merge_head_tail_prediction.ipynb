{
 "cells": [
  {
   "cell_type": "code",
   "execution_count": 11,
   "metadata": {},
   "outputs": [],
   "source": [
    "import json\n",
    "import pandas as pd\n",
    "\n",
    "def process_tags(tags): \n",
    "    tags = list(map(int, tags.split(\",\")))\n",
    "    return tags\n",
    "\n",
    "bound = 50\n",
    "head_pred_path = \"../_EXPERIMENTS/head50__transformer__attn_pooling__flip_cut_aug__lion__weighted_bce_1/prediction.csv\"\n",
    "tail_pred_path = \"../_EXPERIMENTS/tail50__transformer__attn_pooling__flip_cut_aug__lion__weighted_bce_1/prediction.csv\"\n",
    "\n",
    "head = pd.read_csv(head_pred_path)\n",
    "tail = pd.read_csv(tail_pred_path)\n",
    "\n",
    "with open(f\"../data/head{bound}_label2tag.json\") as f:\n",
    "    head_id2tag = json.load(f)\n",
    "\n",
    "with open(f\"../data/tail{bound}_label2tag.json\") as f:\n",
    "    tail_id2tag = json.load(f)\n",
    "\n",
    "\n",
    "predictions = [{} for _ in range(len(head))]\n",
    "\n",
    "for i, p in enumerate(head.prediction.values):\n",
    "    raw_preds = list(map(float, p.split(\",\")))\n",
    "    preds = {head_id2tag[str(j)]: proba for j, proba in enumerate(raw_preds)}\n",
    "    predictions[i].update(preds)\n",
    "\n",
    "for i, p in enumerate(tail.prediction.values):\n",
    "    raw_preds = list(map(float, p.split(\",\")))\n",
    "    preds = {tail_id2tag[str(j)]: proba for j, proba in enumerate(raw_preds)}\n",
    "    predictions[i].update(preds)\n",
    "\n",
    "def process_prediction(pred):\n",
    "    res = [\"\"] * 256\n",
    "    for i, p in pred.items():\n",
    "        res[i] = str(p)\n",
    "    return \",\".join(res)\n",
    "\n",
    "result = pd.DataFrame(\n",
    "    {\n",
    "        \"track\": head.track,\n",
    "        \"prediction\": [process_prediction(p) for p in predictions]\n",
    "    }\n",
    ")\n",
    "result.to_csv(f\"head_tail_prediction_bound{bound}.csv\", index=False)"
   ]
  },
  {
   "cell_type": "code",
   "execution_count": null,
   "metadata": {},
   "outputs": [],
   "source": []
  }
 ],
 "metadata": {
  "kernelspec": {
   "display_name": "ya",
   "language": "python",
   "name": "python3"
  },
  "language_info": {
   "codemirror_mode": {
    "name": "ipython",
    "version": 3
   },
   "file_extension": ".py",
   "mimetype": "text/x-python",
   "name": "python",
   "nbconvert_exporter": "python",
   "pygments_lexer": "ipython3",
   "version": "3.10.12"
  }
 },
 "nbformat": 4,
 "nbformat_minor": 2
}
