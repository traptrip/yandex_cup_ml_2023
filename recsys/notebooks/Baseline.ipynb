{
 "cells": [
  {
   "cell_type": "code",
   "execution_count": 1,
   "id": "340aceb6-4360-49ac-8381-bb42055d6146",
   "metadata": {},
   "outputs": [],
   "source": [
    "import pandas as pd\n",
    "import numpy as np\n",
    "import torch\n",
    "import torch.nn as nn\n",
    "from tqdm.auto import tqdm\n",
    "from datetime import datetime\n",
    "from torch.utils.data import Dataset, DataLoader\n",
    "from glob import glob\n",
    "\n",
    "from sklearn.metrics import average_precision_score\n",
    "\n",
    "\n",
    "import warnings\n",
    "\n",
    "\n",
    "warnings.filterwarnings(\"ignore\")"
   ]
  },
  {
   "cell_type": "code",
   "execution_count": 2,
   "id": "32801790-6619-4141-b909-a70de5e00071",
   "metadata": {},
   "outputs": [],
   "source": [
    "CUDA_DEV = \"cuda:1\"\n",
    "NUM_TAGS = 256"
   ]
  },
  {
   "cell_type": "code",
   "execution_count": 3,
   "id": "29f35090-eb3d-464b-b46f-de30c4d42d4d",
   "metadata": {},
   "outputs": [],
   "source": [
    "df_train = pd.read_csv('../data/train.csv')\n",
    "df_test = pd.read_csv('../data/test.csv')"
   ]
  },
  {
   "cell_type": "code",
   "execution_count": 4,
   "id": "b46b7d4b-785e-4187-b2bc-6c620c7b8cf1",
   "metadata": {},
   "outputs": [
    {
     "data": {
      "application/vnd.jupyter.widget-view+json": {
       "model_id": "06b5c3bf591d434cb583db185eb4e455",
       "version_major": 2,
       "version_minor": 0
      },
      "text/plain": [
       "  0%|          | 0/76714 [00:00<?, ?it/s]"
      ]
     },
     "metadata": {},
     "output_type": "display_data"
    }
   ],
   "source": [
    "track_idx2embeds = {}\n",
    "for fn in tqdm(glob('../data/track_embeddings/*')):\n",
    "    track_idx = int(fn.split('/')[3].split('.')[0])\n",
    "    embeds = np.load(fn)\n",
    "    track_idx2embeds[track_idx] = embeds"
   ]
  },
  {
   "cell_type": "code",
   "execution_count": 5,
   "id": "8d1b5cae-60ae-4584-a6bb-4f6b833929aa",
   "metadata": {},
   "outputs": [],
   "source": [
    "class TaggingDataset(Dataset):\n",
    "    def __init__(self, df, testing=False):\n",
    "        self.df = df\n",
    "        self.testing = testing\n",
    "        self.crop_size = 81\n",
    "        self.stage = \"train\" if not testing else \"val\"\n",
    "        \n",
    "    def __len__(self):\n",
    "        return self.df.shape[0]\n",
    "\n",
    "    def __process_features(self, x: torch.Tensor):\n",
    "        x = torch.from_numpy(x)\n",
    "        x = x.permute(1, 0)\n",
    "        x_len = x.shape[-1]\n",
    "        if x_len > self.crop_size:\n",
    "            start = np.random.randint(0, x_len - self.crop_size)\n",
    "            x = x[..., start : start + self.crop_size]\n",
    "        else:\n",
    "            if self.stage == \"train\":\n",
    "                i = (\n",
    "                    np.random.randint(0, self.crop_size - x_len)\n",
    "                    if self.crop_size != x_len\n",
    "                    else 0\n",
    "                )\n",
    "            else:\n",
    "                i = (self.crop_size - x_len) // 2\n",
    "            pad_patern = (i, self.crop_size - x_len - i)\n",
    "            x = torch.nn.functional.pad(x, pad_patern, \"constant\").detach()\n",
    "        # x /= x.max()\n",
    "        # x = (x - x.mean()) / x.std()\n",
    "        x = x.permute(1, 0)\n",
    "        return x\n",
    "\n",
    "    def __getitem__(self, idx):\n",
    "        row = self.df.iloc[idx]\n",
    "        track_idx = row.track\n",
    "        embeds = track_idx2embeds[track_idx]\n",
    "        embeds = self.__process_features(embeds)\n",
    "        if self.testing:\n",
    "            return track_idx, embeds\n",
    "        tags = [int(x) for x in row.tags.split(',')]\n",
    "        target = np.zeros(NUM_TAGS)\n",
    "        target[tags] = 1\n",
    "        return track_idx, embeds, target\n"
   ]
  },
  {
   "cell_type": "code",
   "execution_count": 6,
   "id": "ca9ac5cf-a481-4918-bbeb-ecf077c681ed",
   "metadata": {},
   "outputs": [],
   "source": [
    "train_dataset = TaggingDataset(df_train)\n",
    "test_dataset = TaggingDataset(df_test, True)"
   ]
  },
  {
   "cell_type": "code",
   "execution_count": 7,
   "id": "31c659b7-ee4b-44da-a715-b7abced07279",
   "metadata": {},
   "outputs": [],
   "source": [
    "# class Network(nn.Module):\n",
    "#     def __init__(\n",
    "#         self,\n",
    "#         num_classes = NUM_TAGS,\n",
    "#         input_dim = 768,\n",
    "#         hidden_dim = 512\n",
    "#     ):\n",
    "#         super().__init__()\n",
    "#         self.num_classes = num_classes\n",
    "#         self.bn = nn.LayerNorm(hidden_dim)\n",
    "#         self.projector =  nn.Linear(input_dim, hidden_dim)\n",
    "#         self.lin = nn.Sequential(\n",
    "#             nn.Linear(hidden_dim, hidden_dim),\n",
    "#             nn.ReLU(),\n",
    "#             nn.Linear(hidden_dim, hidden_dim),\n",
    "#             nn.LayerNorm(hidden_dim)\n",
    "#         )\n",
    "#         self.fc = nn.Linear(hidden_dim, num_classes)\n",
    "        \n",
    "\n",
    "#     def forward(self, embeds):\n",
    "#         x = [self.projector(x) for x in embeds]  # 768 -> 512\n",
    "#         x = [v.mean(0).unsqueeze(0) for v in x]\n",
    "#         x = self.bn(torch.cat(x, dim = 0))\n",
    "#         x = self.lin(x)\n",
    "#         outs = self.fc(x)\n",
    "#         return outs\n",
    "\n",
    "\n",
    "class Network(nn.Module):\n",
    "    def __init__(\n",
    "        self,\n",
    "        num_classes = NUM_TAGS,\n",
    "        input_dim = 768,\n",
    "        hidden_dim = 512\n",
    "    ):\n",
    "        super().__init__()\n",
    "        self.num_classes = num_classes\n",
    "\n",
    "        self.transformer = nn.TransformerEncoder(\n",
    "            nn.TransformerEncoderLayer(\n",
    "                input_dim, 8, dim_feedforward=2048, dropout=0.2, batch_first=True\n",
    "            ),\n",
    "            num_layers=3\n",
    "        )\n",
    "        self.pooling = nn.AdaptiveAvgPool2d((1, input_dim))\n",
    "        self.projector =  nn.Sequential(\n",
    "            nn.Linear(input_dim, hidden_dim),\n",
    "            nn.ReLU(),\n",
    "            nn.LayerNorm(hidden_dim),\n",
    "            nn.Linear(hidden_dim, num_classes),\n",
    "        )\n",
    "\n",
    "    def forward(self, x):\n",
    "        x = self.transformer(x)\n",
    "        x = self.pooling(x).squeeze()\n",
    "        outs = self.projector(x)\n",
    "        return outs"
   ]
  },
  {
   "cell_type": "code",
   "execution_count": 8,
   "id": "c70bf034-7966-4f44-9f2e-dcaf0f8a8184",
   "metadata": {},
   "outputs": [],
   "source": [
    "def train_epoch(model, loader, criterion, optimizer):\n",
    "    model.train()\n",
    "    running_loss = None\n",
    "    alpha = 0.8\n",
    "    score = []\n",
    "    for iteration,data in enumerate(loader):\n",
    "        optimizer.zero_grad()\n",
    "        track_idxs, embeds, target = data\n",
    "        # embeds = [x.to(CUDA_DEV) for x in embeds]\n",
    "        embeds = embeds.to(CUDA_DEV)\n",
    "        target = target.to(CUDA_DEV)\n",
    "        pred_logits = model(embeds)\n",
    "        pred_probs = torch.sigmoid(pred_logits)\n",
    "        ce_loss = criterion(pred_logits, target)\n",
    "        ce_loss.backward()\n",
    "        optimizer.step()\n",
    "        score.append(average_precision_score(target.cpu().numpy(), pred_probs.detach().cpu().numpy()))\n",
    "        \n",
    "        if running_loss is None:\n",
    "            running_loss = ce_loss.item()\n",
    "        else:\n",
    "            running_loss = running_loss * ce_loss.item() + (1 - alpha) * ce_loss.item()\n",
    "        if iteration % 100 == 0:\n",
    "            print('   {} batch {} loss {}'.format(\n",
    "                datetime.now(), iteration + 1, running_loss\n",
    "            ))\n",
    "    print(f\"Train AP: {np.mean(score):.6f}\")"
   ]
  },
  {
   "cell_type": "code",
   "execution_count": 9,
   "id": "2e624b0b-8daf-4702-a5de-c667fcd53121",
   "metadata": {},
   "outputs": [],
   "source": [
    "def predict(model, loader):\n",
    "    model.eval()\n",
    "    track_idxs = []\n",
    "    predictions = []\n",
    "    with torch.no_grad():\n",
    "        for data in tqdm(loader):\n",
    "            track_idx, embeds = data\n",
    "            # embeds = [x.to(CUDA_DEV) for x in embeds]\n",
    "            embeds = embeds.to(CUDA_DEV)\n",
    "            pred_logits = model(embeds)\n",
    "            pred_probs = torch.sigmoid(pred_logits)\n",
    "            pred_probs = torch.round(pred_probs, decimals=4)\n",
    "            predictions.append(pred_probs.cpu().numpy())\n",
    "            track_idxs.append(track_idx.numpy())\n",
    "    predictions = np.vstack(predictions)\n",
    "    track_idxs = np.vstack(track_idxs).ravel()\n",
    "    return track_idxs, predictions\n"
   ]
  },
  {
   "cell_type": "code",
   "execution_count": 10,
   "id": "e4decde5-005a-4820-804c-cf4d110c799e",
   "metadata": {},
   "outputs": [],
   "source": [
    "def collate_fn(b):\n",
    "    track_idxs = torch.from_numpy(np.vstack([x[0] for x in b]))\n",
    "    targets = torch.from_numpy(np.vstack([x[2] for x in b]))\n",
    "    # embeds = [torch.from_numpy(x[1]) for x in b]\n",
    "    embeds = torch.stack([x[1] for x in b])\n",
    "    return track_idxs, embeds, targets\n",
    "\n",
    "def collate_fn_test(b):\n",
    "    track_idxs = torch.from_numpy(np.vstack([x[0] for x in b]))\n",
    "    # embeds = [torch.from_numpy(x[1]) for x in b]\n",
    "    embeds = torch.stack([x[1] for x in b])\n",
    "    return track_idxs, embeds"
   ]
  },
  {
   "cell_type": "code",
   "execution_count": 11,
   "id": "62124a85-3bcc-4eb8-a0d7-931c8685d1b3",
   "metadata": {},
   "outputs": [],
   "source": [
    "train_dataloader = DataLoader(train_dataset, batch_size=256, shuffle=True, num_workers=4, collate_fn=collate_fn)\n",
    "test_dataloader = DataLoader(test_dataset, batch_size=256, shuffle=False, num_workers=4, collate_fn=collate_fn_test)"
   ]
  },
  {
   "cell_type": "code",
   "execution_count": 13,
   "id": "a0380a2b",
   "metadata": {},
   "outputs": [],
   "source": [
    "model = Network()\n",
    "criterion = nn.BCEWithLogitsLoss()\n",
    "\n",
    "epochs = 5\n",
    "model = model.to(CUDA_DEV)\n",
    "criterion = criterion.to(CUDA_DEV)\n",
    "optimizer = torch.optim.AdamW(model.parameters(), lr=3e-4)"
   ]
  },
  {
   "cell_type": "code",
   "execution_count": 14,
   "id": "448ff0ee-2a61-4761-8d54-8b555bca7a09",
   "metadata": {
    "scrolled": true,
    "tags": []
   },
   "outputs": [
    {
     "data": {
      "application/vnd.jupyter.widget-view+json": {
       "model_id": "1a333f512f134a068168475f49584c12",
       "version_major": 2,
       "version_minor": 0
      },
      "text/plain": [
       "  0%|          | 0/5 [00:00<?, ?it/s]"
      ]
     },
     "metadata": {},
     "output_type": "display_data"
    },
    {
     "name": "stdout",
     "output_type": "stream",
     "text": [
      "   2023-11-01 01:52:31.948569 batch 1 loss 0.7539947039454633\n",
      "   2023-11-01 01:53:26.068232 batch 101 loss 0.014536299839564733\n",
      "Train AP: 0.037980\n",
      "   2023-11-01 01:54:22.215248 batch 1 loss 0.06461087436876412\n",
      "   2023-11-01 01:55:17.336835 batch 101 loss 0.013303131295626406\n",
      "Train AP: 0.126772\n",
      "   2023-11-01 01:56:13.674642 batch 1 loss 0.05495387297082388\n",
      "   2023-11-01 01:57:09.058744 batch 101 loss 0.011191709961157611\n",
      "Train AP: 0.204586\n",
      "   2023-11-01 01:58:05.644205 batch 1 loss 0.050117459448933754\n",
      "   2023-11-01 01:59:01.435471 batch 101 loss 0.010728354985651313\n",
      "Train AP: 0.237603\n",
      "   2023-11-01 01:59:58.522706 batch 1 loss 0.04701385704321548\n",
      "   2023-11-01 02:00:54.019373 batch 101 loss 0.010098447817056067\n",
      "Train AP: 0.264571\n"
     ]
    }
   ],
   "source": [
    "for epoch in tqdm(range(epochs)):\n",
    "    train_epoch(model, train_dataloader, criterion, optimizer)\n"
   ]
  },
  {
   "cell_type": "code",
   "execution_count": null,
   "id": "ef28ac94",
   "metadata": {},
   "outputs": [],
   "source": [
    "torch.save(model.state_dict(), \"transformer_encoder.pt\")"
   ]
  },
  {
   "cell_type": "code",
   "execution_count": 21,
   "id": "7a65faa1-76ff-4329-aadf-65594c8f577e",
   "metadata": {},
   "outputs": [
    {
     "data": {
      "application/vnd.jupyter.widget-view+json": {
       "model_id": "10b357a3aae24f898d5be39b4058dbde",
       "version_major": 2,
       "version_minor": 0
      },
      "text/plain": [
       "  0%|          | 0/100 [00:00<?, ?it/s]"
      ]
     },
     "metadata": {},
     "output_type": "display_data"
    }
   ],
   "source": [
    "track_idxs, predictions = predict(model, test_dataloader)"
   ]
  },
  {
   "cell_type": "code",
   "execution_count": 22,
   "id": "70f38f54-5bdc-4b24-b711-83aa87f1f11f",
   "metadata": {},
   "outputs": [],
   "source": [
    "predictions_df = pd.DataFrame([\n",
    "    {'track': track, 'prediction': ','.join([str(p) for p in probs])}\n",
    "    for track, probs in zip(track_idxs, predictions)\n",
    "])"
   ]
  },
  {
   "cell_type": "code",
   "execution_count": 23,
   "id": "810b0804-c39b-4cb3-9a00-fb443a8aa734",
   "metadata": {},
   "outputs": [],
   "source": [
    "predictions_df.to_csv('prediction_mlp.csv', index=False)"
   ]
  },
  {
   "cell_type": "code",
   "execution_count": null,
   "id": "45b24173-fe43-4203-a9af-71801f8c576d",
   "metadata": {},
   "outputs": [],
   "source": []
  },
  {
   "cell_type": "code",
   "execution_count": null,
   "id": "4daf63c5-45b4-4cb8-99f1-534fc8203caa",
   "metadata": {},
   "outputs": [],
   "source": []
  }
 ],
 "metadata": {
  "kernelspec": {
   "display_name": "ya",
   "language": "python",
   "name": "python3"
  },
  "language_info": {
   "codemirror_mode": {
    "name": "ipython",
    "version": 3
   },
   "file_extension": ".py",
   "mimetype": "text/x-python",
   "name": "python",
   "nbconvert_exporter": "python",
   "pygments_lexer": "ipython3",
   "version": "3.10.12"
  }
 },
 "nbformat": 4,
 "nbformat_minor": 5
}
