{
 "cells": [
  {
   "cell_type": "code",
   "execution_count": 1,
   "metadata": {},
   "outputs": [
    {
     "name": "stdout",
     "output_type": "stream",
     "text": [
      "INFO: Pandarallel will run on 4 workers.\n",
      "INFO: Pandarallel will use Memory file system to transfer data between the main process and workers.\n"
     ]
    }
   ],
   "source": [
    "import torch \n",
    "import json\n",
    "import seaborn as sns\n",
    "import numpy as np\n",
    "import pandas as pd\n",
    "from sklearn.model_selection import train_test_split\n",
    "import matplotlib.pyplot as plt\n",
    "from pandarallel import pandarallel\n",
    "from tqdm.auto import tqdm\n",
    "import warnings\n",
    "\n",
    "warnings.simplefilter(action='ignore', category=FutureWarning)\n",
    "tqdm.pandas()\n",
    "pandarallel.initialize(progress_bar=True)\n",
    "\n",
    "plt.rcParams[\"figure.figsize\"] = (8, 4)"
   ]
  },
  {
   "cell_type": "code",
   "execution_count": 2,
   "metadata": {},
   "outputs": [],
   "source": [
    "def process_tags(tags): \n",
    "    tags = list(map(int, tags.split(\",\")))\n",
    "    return tags"
   ]
  },
  {
   "cell_type": "code",
   "execution_count": 3,
   "metadata": {},
   "outputs": [],
   "source": [
    "train = pd.read_csv(\"../data/train.csv\")\n",
    "test = pd.read_csv(\"../data/test.csv\")"
   ]
  },
  {
   "cell_type": "code",
   "execution_count": 4,
   "metadata": {},
   "outputs": [
    {
     "data": {
      "text/html": [
       "<div>\n",
       "<style scoped>\n",
       "    .dataframe tbody tr th:only-of-type {\n",
       "        vertical-align: middle;\n",
       "    }\n",
       "\n",
       "    .dataframe tbody tr th {\n",
       "        vertical-align: top;\n",
       "    }\n",
       "\n",
       "    .dataframe thead th {\n",
       "        text-align: right;\n",
       "    }\n",
       "</style>\n",
       "<table border=\"1\" class=\"dataframe\">\n",
       "  <thead>\n",
       "    <tr style=\"text-align: right;\">\n",
       "      <th></th>\n",
       "      <th>track</th>\n",
       "      <th>tags</th>\n",
       "    </tr>\n",
       "  </thead>\n",
       "  <tbody>\n",
       "    <tr>\n",
       "      <th>0</th>\n",
       "      <td>49734</td>\n",
       "      <td>5,6,9,26,32,55,96</td>\n",
       "    </tr>\n",
       "    <tr>\n",
       "      <th>1</th>\n",
       "      <td>67845</td>\n",
       "      <td>6,9,28,39,145,155</td>\n",
       "    </tr>\n",
       "    <tr>\n",
       "      <th>2</th>\n",
       "      <td>25302</td>\n",
       "      <td>0,6,28,40,116,168</td>\n",
       "    </tr>\n",
       "    <tr>\n",
       "      <th>3</th>\n",
       "      <td>57796</td>\n",
       "      <td>28,186</td>\n",
       "    </tr>\n",
       "    <tr>\n",
       "      <th>4</th>\n",
       "      <td>13676</td>\n",
       "      <td>6,23,177</td>\n",
       "    </tr>\n",
       "  </tbody>\n",
       "</table>\n",
       "</div>"
      ],
      "text/plain": [
       "   track               tags\n",
       "0  49734  5,6,9,26,32,55,96\n",
       "1  67845  6,9,28,39,145,155\n",
       "2  25302  0,6,28,40,116,168\n",
       "3  57796             28,186\n",
       "4  13676           6,23,177"
      ]
     },
     "execution_count": 4,
     "metadata": {},
     "output_type": "execute_result"
    }
   ],
   "source": [
    "train.head()"
   ]
  },
  {
   "cell_type": "code",
   "execution_count": 21,
   "metadata": {},
   "outputs": [],
   "source": [
    "# train, val = train_test_split(train, test_size=0.1, random_state=42)\n",
    "# train[\"stage\"] = \"train\"\n",
    "# val[\"stage\"] = \"val\"\n",
    "# meta = pd.concat((train, val), ignore_index=True)\n",
    "# meta.to_csv(\"../data/metadata.csv\", sep=\"\\t\", index=False)"
   ]
  },
  {
   "cell_type": "code",
   "execution_count": 22,
   "metadata": {},
   "outputs": [],
   "source": [
    "# meta = pd.read_csv(\"../data/metadata.csv\", sep=\"\\t\")\n",
    "# meta[\"one_label\"] = meta[\"tags\"].parallel_apply(process_tags)\n",
    "# meta = meta.explode(\"one_label\", ignore_index=True)\n",
    "# meta.to_csv(\"../data/metadata_exploded.csv\", index=False, sep=\"\\t\")"
   ]
  },
  {
   "cell_type": "code",
   "execution_count": 5,
   "metadata": {},
   "outputs": [],
   "source": [
    "tags = train.tags.apply(process_tags)"
   ]
  },
  {
   "cell_type": "code",
   "execution_count": 6,
   "metadata": {},
   "outputs": [
    {
     "data": {
      "text/plain": [
       "0      20095\n",
       "1      18519\n",
       "2       7139\n",
       "6       6270\n",
       "5       5217\n",
       "       ...  \n",
       "184      222\n",
       "229      215\n",
       "235      213\n",
       "211      209\n",
       "238      208\n",
       "Name: tags, Length: 256, dtype: int64"
      ]
     },
     "execution_count": 6,
     "metadata": {},
     "output_type": "execute_result"
    }
   ],
   "source": [
    "all_tags = tags.explode()\n",
    "tags_count = all_tags.value_counts()\n",
    "all_tags = all_tags.values.astype(np.int32)\n",
    "tags_count"
   ]
  },
  {
   "cell_type": "code",
   "execution_count": 7,
   "metadata": {},
   "outputs": [
    {
     "data": {
      "text/plain": [
       "256"
      ]
     },
     "execution_count": 7,
     "metadata": {},
     "output_type": "execute_result"
    }
   ],
   "source": [
    "len(tags_count)"
   ]
  },
  {
   "cell_type": "code",
   "execution_count": 8,
   "metadata": {},
   "outputs": [
    {
     "data": {
      "text/plain": [
       "0      20095\n",
       "1      18519\n",
       "2       7139\n",
       "3       4777\n",
       "4       1929\n",
       "       ...  \n",
       "251      247\n",
       "252      265\n",
       "253      225\n",
       "254      235\n",
       "255      243\n",
       "Name: tags, Length: 256, dtype: int64"
      ]
     },
     "execution_count": 8,
     "metadata": {},
     "output_type": "execute_result"
    }
   ],
   "source": [
    "tags_count.sort_index()"
   ]
  },
  {
   "cell_type": "markdown",
   "metadata": {},
   "source": [
    "# Save weights for WeightBCELoss"
   ]
  },
  {
   "cell_type": "code",
   "execution_count": 29,
   "metadata": {},
   "outputs": [
    {
     "data": {
      "text/plain": [
       "tensor(0.6382)"
      ]
     },
     "execution_count": 29,
     "metadata": {},
     "output_type": "execute_result"
    }
   ],
   "source": [
    "import torch \n",
    "weights = torch.from_numpy(1 / tags_count.sort_index().values).float()\n",
    "torch.save(weights, \"../data/bce_class_weights.pth\")\n",
    "sum(weights)"
   ]
  },
  {
   "cell_type": "code",
   "execution_count": 12,
   "metadata": {},
   "outputs": [
    {
     "data": {
      "text/plain": [
       "<BarContainer object of 256 artists>"
      ]
     },
     "execution_count": 12,
     "metadata": {},
     "output_type": "execute_result"
    },
    {
     "data": {
      "image/png": "[encoded data removed]",
      "text/plain": [
       "<Figure size 1200x400 with 1 Axes>"
      ]
     },
     "metadata": {},
     "output_type": "display_data"
    }
   ],
   "source": [
    "plt.bar(range(len(tags_count)), tags_count.sort_index().values, width=0.6)"
   ]
  },
  {
   "cell_type": "code",
   "execution_count": 13,
   "metadata": {},
   "outputs": [
    {
     "data": {
      "text/plain": [
       "<seaborn.axisgrid.FacetGrid at 0x7f063a1e70d0>"
      ]
     },
     "execution_count": 13,
     "metadata": {},
     "output_type": "execute_result"
    },
    {
     "data": {
      "image/png": "[encoded data removed]",
      "text/plain": [
       "<Figure size 500x500 with 1 Axes>"
      ]
     },
     "metadata": {},
     "output_type": "display_data"
    }
   ],
   "source": [
    "sns.displot(all_tags)"
   ]
  },
  {
   "cell_type": "code",
   "execution_count": 25,
   "metadata": {},
   "outputs": [
    {
     "data": {
      "application/vnd.jupyter.widget-view+json": {
       "model_id": "d546dd6910e9446a8e3cd703a46b3b4e",
       "version_major": 2,
       "version_minor": 0
      },
      "text/plain": [
       "VBox(children=(HBox(children=(IntProgress(value=0, description='0.00%', max=6395), Label(value='0 / 6395'))), …"
      ]
     },
     "metadata": {},
     "output_type": "display_data"
    },
    {
     "name": "stderr",
     "output_type": "stream",
     "text": [
      "/tmp/ipykernel_39870/1714200448.py:15: UserWarning: Pandas doesn't allow columns to be created via a new attribute name - see https://pandas.pydata.org/pandas-docs/stable/indexing.html#attribute-access\n",
      "  pred.tags = pred.prediction.parallel_apply(process_pred)\n"
     ]
    }
   ],
   "source": [
    "# pred_filepath = \"../_EXPERIMENTS/10folds__transformer_attn_pooling_lion_512dim_1/prediction.csv\"\n",
    "# pred_filepath = \"../_EXPERIMENTS/transformer_dim512_flip_cut_aug_resample_loss_1/prediction.csv\"\n",
    "pred_filepath = \"../_EXPERIMENTS/transformer_attn_pooling_2/prediction.csv\"\n",
    "pred = pd.read_csv(pred_filepath)\n",
    "\n",
    "def process_pred(pred):\n",
    "    pred = list(map(float, pred.split(\",\")))\n",
    "    tags = []\n",
    "    for i, p in enumerate(pred):\n",
    "        if p > 0.5:\n",
    "            tags.append(i)\n",
    "    if not tags:\n",
    "        tags.append(np.argmax(pred))\n",
    "    return tags\n",
    "pred.tags = pred.prediction.parallel_apply(process_pred)"
   ]
  },
  {
   "cell_type": "code",
   "execution_count": 26,
   "metadata": {},
   "outputs": [
    {
     "data": {
      "text/plain": [
       "<seaborn.axisgrid.FacetGrid at 0x7f0638cd7730>"
      ]
     },
     "execution_count": 26,
     "metadata": {},
     "output_type": "execute_result"
    },
    {
     "data": {
      "image/png": "[encoded data removed]",
      "text/plain": [
       "<Figure size 500x500 with 1 Axes>"
      ]
     },
     "metadata": {},
     "output_type": "display_data"
    }
   ],
   "source": [
    "pred_tags_cnt = pred.tags.value_counts()\n",
    "# plt.bar(range(len(pred_tags_cnt)), pred_tags_cnt.sort_index().values, width=0.6)\n",
    "sns.displot(pred.tags.explode())"
   ]
  },
  {
   "cell_type": "code",
   "execution_count": null,
   "metadata": {},
   "outputs": [],
   "source": []
  },
  {
   "cell_type": "markdown",
   "metadata": {},
   "source": [
    "# Separate Head & Tail  "
   ]
  },
  {
   "cell_type": "code",
   "execution_count": 9,
   "metadata": {},
   "outputs": [],
   "source": [
    "# separate head and tail\n",
    "bound = 50\n",
    "sorted_tags = tags_count.index.values\n",
    "head_tags = sorted_tags[:bound]\n",
    "tail_tags = sorted_tags[bound:]"
   ]
  },
  {
   "cell_type": "code",
   "execution_count": 10,
   "metadata": {},
   "outputs": [
    {
     "data": {
      "image/png": "[encoded data removed]",
      "text/plain": [
       "<Figure size 800x400 with 1 Axes>"
      ]
     },
     "metadata": {},
     "output_type": "display_data"
    },
    {
     "data": {
      "image/png": "[encoded data removed]",
      "text/plain": [
       "<Figure size 800x400 with 1 Axes>"
      ]
     },
     "metadata": {},
     "output_type": "display_data"
    }
   ],
   "source": [
    "t = tags_count.iloc[:bound]\n",
    "plt.bar(range(len(t)), t.sort_index().values, width=0.6)\n",
    "plt.show()\n",
    "\n",
    "t = tags_count.iloc[bound:]\n",
    "plt.bar(range(len(t)), t.sort_index().values, width=0.6)\n",
    "plt.show()"
   ]
  },
  {
   "cell_type": "code",
   "execution_count": 11,
   "metadata": {},
   "outputs": [],
   "source": [
    "head_mask = tags.apply(lambda tag_list: len(set(tag_list).intersection(set(head_tags))) > 0)\n",
    "tail_mask = tags.apply(lambda tag_list: len(set(tag_list).intersection(set(tail_tags))) > 0)\n",
    "\n",
    "head_train = train.loc[head_mask]\n",
    "tail_train = train.loc[tail_mask]"
   ]
  },
  {
   "cell_type": "code",
   "execution_count": 12,
   "metadata": {},
   "outputs": [
    {
     "data": {
      "text/plain": [
       "((51098, 2), (46201, 2))"
      ]
     },
     "execution_count": 12,
     "metadata": {},
     "output_type": "execute_result"
    }
   ],
   "source": [
    "head_train.shape, tail_train.shape"
   ]
  },
  {
   "cell_type": "code",
   "execution_count": 13,
   "metadata": {},
   "outputs": [],
   "source": [
    "head_id2tag = {i: tag for i, tag in enumerate(head_tags.tolist())}\n",
    "tail_id2tag = {i: tag for i, tag in enumerate(tail_tags.tolist())}\n",
    "head_tag2id = {tag: i for i, tag in enumerate(head_tags.tolist())}\n",
    "tail_tag2id = {tag: i for i, tag in enumerate(tail_tags.tolist())}\n",
    "\n",
    "# with open(f\"../data/head{bound}_label2tag.json\", \"w\") as f:\n",
    "#     json.dump(head_id2tag, f)\n",
    "\n",
    "# with open(f\"../data/tail{bound}_label2tag.json\", \"w\") as f:\n",
    "#     json.dump(tail_id2tag, f)"
   ]
  },
  {
   "cell_type": "code",
   "execution_count": 14,
   "metadata": {},
   "outputs": [
    {
     "name": "stderr",
     "output_type": "stream",
     "text": [
      "/tmp/ipykernel_353393/3512321348.py:15: SettingWithCopyWarning: \n",
      "A value is trying to be set on a copy of a slice from a DataFrame.\n",
      "Try using .loc[row_indexer,col_indexer] = value instead\n",
      "\n",
      "See the caveats in the documentation: https://pandas.pydata.org/pandas-docs/stable/user_guide/indexing.html#returning-a-view-versus-a-copy\n",
      "  head_train[\"tags\"] = head_train.tags.apply(filter_tags_head)\n",
      "/tmp/ipykernel_353393/3512321348.py:16: SettingWithCopyWarning: \n",
      "A value is trying to be set on a copy of a slice from a DataFrame.\n",
      "Try using .loc[row_indexer,col_indexer] = value instead\n",
      "\n",
      "See the caveats in the documentation: https://pandas.pydata.org/pandas-docs/stable/user_guide/indexing.html#returning-a-view-versus-a-copy\n",
      "  tail_train[\"tags\"] = tail_train.tags.apply(filter_tags_tail)\n"
     ]
    }
   ],
   "source": [
    "def filter_tags_head(tags):\n",
    "    tags = set(map(int, tags.split(\",\")))\n",
    "    tags = tags.intersection(head_tags)\n",
    "    tags = [head_tag2id[t] for t in tags]\n",
    "    tags = \",\".join(map(str, tags))\n",
    "    return tags\n",
    "\n",
    "def filter_tags_tail(tags):\n",
    "    tags = set(map(int, tags.split(\",\")))\n",
    "    tags = tags.intersection(tail_tags)\n",
    "    tags = [tail_tag2id[t] for t in tags]\n",
    "    tags = \",\".join(map(str, tags))\n",
    "    return tags\n",
    "\n",
    "head_train[\"tags\"] = head_train.tags.apply(filter_tags_head)\n",
    "tail_train[\"tags\"] = tail_train.tags.apply(filter_tags_tail)"
   ]
  },
  {
   "cell_type": "code",
   "execution_count": 15,
   "metadata": {},
   "outputs": [],
   "source": [
    "# weights\n",
    "head_tags_count = head_train.tags.apply(process_tags).explode().value_counts()\n",
    "weights = torch.from_numpy(1 / head_tags_count.sort_index().values).float()\n",
    "# torch.save(weights, f\"../data/head{bound}_bce_class_weights.pth\")\n",
    "# print(sum(weights))\n",
    "\n",
    "head_train_meta, head_val_meta = train_test_split(head_train, test_size=0.1, random_state=42)\n",
    "head_train_meta[\"stage\"] = \"train\"\n",
    "head_val_meta[\"stage\"] = \"val\"\n",
    "head_meta = pd.concat((head_train_meta, head_val_meta), ignore_index=True)\n",
    "# head_meta.to_csv(f\"../data/head{bound}_metadata.csv\", index=False)"
   ]
  },
  {
   "cell_type": "code",
   "execution_count": 16,
   "metadata": {},
   "outputs": [],
   "source": [
    "# weights\n",
    "tail_tags_count = tail_train.tags.apply(process_tags).explode().value_counts()\n",
    "weights = torch.from_numpy(1 / tail_tags_count.sort_index().values).float()\n",
    "# torch.save(weights, f\"../data/tail{bound}_bce_class_weights.pth\")\n",
    "# print(sum(weights))\n",
    "\n",
    "tail_train_meta, tail_val_meta = train_test_split(tail_train, test_size=0.1, random_state=42)\n",
    "tail_train_meta[\"stage\"] = \"train\"\n",
    "tail_val_meta[\"stage\"] = \"val\"\n",
    "tail_meta = pd.concat((tail_train_meta, tail_val_meta), ignore_index=True)\n",
    "# tail_meta.to_csv(f\"../data/tail{bound}_metadata.csv\", index=False)"
   ]
  },
  {
   "cell_type": "code",
   "execution_count": 18,
   "metadata": {},
   "outputs": [
    {
     "data": {
      "text/plain": [
       "206"
      ]
     },
     "execution_count": 18,
     "metadata": {},
     "output_type": "execute_result"
    }
   ],
   "source": [
    "tail_train_meta.tags.apply(process_tags).explode().nunique()"
   ]
  },
  {
   "cell_type": "code",
   "execution_count": 20,
   "metadata": {},
   "outputs": [],
   "source": [
    "import numpy as np\n",
    "import pandas as pd\n",
    "df = pd.read_csv(\"../data/train.csv\")\n",
    "def one_hot_tags(tags):\n",
    "    tags = list(map(int, tags.split(\",\")))\n",
    "    one_hot = np.zeros(256)\n",
    "    one_hot[tags] = 1\n",
    "    return one_hot\n",
    "tags = np.stack(df.tags.apply(one_hot_tags))"
   ]
  },
  {
   "cell_type": "code",
   "execution_count": 24,
   "metadata": {},
   "outputs": [
    {
     "data": {
      "text/plain": [
       "track                49734\n",
       "tags     5,6,9,26,32,55,96\n",
       "Name: 0, dtype: object"
      ]
     },
     "execution_count": 24,
     "metadata": {},
     "output_type": "execute_result"
    }
   ],
   "source": [
    "df.iloc[0]"
   ]
  },
  {
   "cell_type": "code",
   "execution_count": 25,
   "metadata": {},
   "outputs": [
    {
     "data": {
      "text/plain": [
       "7.0"
      ]
     },
     "execution_count": 25,
     "metadata": {},
     "output_type": "execute_result"
    }
   ],
   "source": [
    "tags[0].sum()"
   ]
  },
  {
   "cell_type": "code",
   "execution_count": null,
   "metadata": {},
   "outputs": [],
   "source": []
  }
 ],
 "metadata": {
  "kernelspec": {
   "display_name": "ya",
   "language": "python",
   "name": "python3"
  },
  "language_info": {
   "codemirror_mode": {
    "name": "ipython",
    "version": 3
   },
   "file_extension": ".py",
   "mimetype": "text/x-python",
   "name": "python",
   "nbconvert_exporter": "python",
   "pygments_lexer": "ipython3",
   "version": "3.10.12"
  }
 },
 "nbformat": 4,
 "nbformat_minor": 2
}
